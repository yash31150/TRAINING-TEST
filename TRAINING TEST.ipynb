{
 "cells": [
  {
   "cell_type": "markdown",
   "id": "4dbb0194-e85e-4a73-95ca-6259f3d6a1bd",
   "metadata": {},
   "source": [
    "# Q1)\tWrite a program to count the sub_string from main string"
   ]
  },
  {
   "cell_type": "code",
   "execution_count": 36,
   "id": "310151ac-5764-47c7-b7ab-bb392a1b332f",
   "metadata": {},
   "outputs": [
    {
     "name": "stdout",
     "output_type": "stream",
     "text": [
      "Number of CDC in ABCDCDC: 2\n"
     ]
    }
   ],
   "source": [
    "def count_substring(str,sub_string):\n",
    "    n=len(sub_string)\n",
    "    i=0\n",
    "    c=0\n",
    "    while(i+n<len(str)+1):\n",
    "        if(str[i:i+n]==sub_string):\n",
    "            c=c+1\n",
    "        i=i+1\n",
    "    return c\n",
    "str=\"ABCDCDC\"\n",
    "sub_string=\"CDC\"\n",
    "print(f\"Number of {sub_string} in {str}:\",count_substring(str,sub_string))"
   ]
  },
  {
   "cell_type": "markdown",
   "id": "e8e69371-69fe-4d9e-aa93-1f3610d20321",
   "metadata": {},
   "source": [
    "## Q2)\tWrite a program to take 4 number and store in list] find the factorial of the each number of the list and store the value  in the list \r\n"
   ]
  },
  {
   "cell_type": "code",
   "execution_count": 55,
   "id": "31e965b0-c514-4965-aaaf-18602473b187",
   "metadata": {},
   "outputs": [
    {
     "name": "stdout",
     "output_type": "stream",
     "text": [
      "Enter 4 numbers:\n"
     ]
    },
    {
     "name": "stdin",
     "output_type": "stream",
     "text": [
      " 2\n",
      " 4\n",
      " 6\n",
      " 8\n"
     ]
    },
    {
     "name": "stdout",
     "output_type": "stream",
     "text": [
      "[2, 24, 720, 40320]\n"
     ]
    }
   ],
   "source": [
    "def factorial(num):\n",
    "    p=1\n",
    "    while(num>0):\n",
    "        p=p*num;\n",
    "        num=num-1\n",
    "    return p\n",
    "li=[]\n",
    "print(\"Enter 4 numbers:\")\n",
    "for i in range(4):\n",
    "    x=int(input())\n",
    "    li.append(factorial(x))\n",
    "print(li)"
   ]
  },
  {
   "cell_type": "markdown",
   "id": "b7186917-92b7-4daf-a36c-1c2c92ed3968",
   "metadata": {},
   "source": [
    "## Q3) Checking of the vowels inside the string"
   ]
  },
  {
   "cell_type": "code",
   "execution_count": 15,
   "id": "70e89fe6-5dc2-453d-bb2c-b0d4e22a94a0",
   "metadata": {},
   "outputs": [
    {
     "name": "stdout",
     "output_type": "stream",
     "text": [
      "Vowels found: e, o\n"
     ]
    }
   ],
   "source": [
    "def find_vowels(input_string):\n",
    "    vowels = \"aeiouAEIOU\"\n",
    "    found_vowels = []\n",
    "    \n",
    "    for char in input_string:\n",
    "        if char in vowels and char not in found_vowels:\n",
    "            found_vowels.append(char)\n",
    "    \n",
    "    return found_vowels\n",
    "input_string = \"Hello World\"\n",
    "vowels_found = find_vowels(input_string)\n",
    "print(\"Vowels found:\", ', '.join(vowels_found))"
   ]
  },
  {
   "cell_type": "markdown",
   "id": "cbc9bbc4-fafd-4293-96ba-cc3e44199187",
   "metadata": {},
   "source": [
    "## 4)\tA python program to access each element of a string in forward and reverse orders using while loop "
   ]
  },
  {
   "cell_type": "code",
   "execution_count": 17,
   "id": "779d2e0b-1c11-44c0-b2bd-8a71317edda7",
   "metadata": {},
   "outputs": [
    {
     "name": "stdout",
     "output_type": "stream",
     "text": [
      "P y t h o n \n",
      "n o h t y P \n"
     ]
    }
   ],
   "source": [
    "def print_string_elements(s):\n",
    "    i = 0\n",
    "    while i < len(s):\n",
    "        print(s[i], end=' ')\n",
    "        i += 1\n",
    "    print()\n",
    "    \n",
    "    i = len(s) - 1\n",
    "    while i >= 0:\n",
    "        print(s[i], end=' ')\n",
    "        i -= 1\n",
    "    print()\n",
    "\n",
    "input_string = \"Python\"\n",
    "print_string_elements(input_string)"
   ]
  },
  {
   "cell_type": "markdown",
   "id": "75125fba-b0b8-4daa-be3d-c60177b934c1",
   "metadata": {},
   "source": [
    "# 5)\tWrite a python program to know whether a sub- string exists in main string "
   ]
  },
  {
   "cell_type": "code",
   "execution_count": 19,
   "id": "8401c54c-799e-494e-b8d4-4419323e2bf7",
   "metadata": {},
   "outputs": [
    {
     "name": "stdout",
     "output_type": "stream",
     "text": [
      "Substring does not exist\n"
     ]
    }
   ],
   "source": [
    "def substring_exists(main_string, sub_string):\n",
    "    return sub_string in main_string\n",
    "main_string = \"Hello, World!\"\n",
    "sub_string = \"hemlo\"\n",
    "result = substring_exists(main_string, sub_string)\n",
    "\n",
    "if result:\n",
    "    print(\"Substring exists\")\n",
    "else:\n",
    "    print(\"Substring does not exist\")"
   ]
  },
  {
   "cell_type": "markdown",
   "id": "b6b25e9a-fa1b-4727-890f-e34cca21ba5f",
   "metadata": {},
   "source": [
    "## 6)\tA python program to find the first occurrences of sub string in a given main string  "
   ]
  },
  {
   "cell_type": "code",
   "execution_count": 21,
   "id": "778e0396-6d16-4ea2-bd98-3d8d1e39f9d8",
   "metadata": {},
   "outputs": [
    {
     "name": "stdout",
     "output_type": "stream",
     "text": [
      "First occurrence at index: 7\n"
     ]
    }
   ],
   "source": [
    "def find_first_occurrence(main_string, sub_string):\n",
    "    return main_string.find(sub_string)\n",
    "main_string = \"Hello, World! Welcome to the World!\"\n",
    "sub_string = \"World\"\n",
    "index = find_first_occurrence(main_string, sub_string)\n",
    "\n",
    "if index != -1:\n",
    "    print(\"First occurrence at index:\", index)\n",
    "else:\n",
    "    print(\"Substring not found\")"
   ]
  },
  {
   "cell_type": "markdown",
   "id": "29e6cd02-d9be-4de9-aa2e-1071926936bb",
   "metadata": {},
   "source": [
    "# Q7) GENERATE AN INFINITE FIBONACCI SERIES BY USING GENERATOR YIELD? VERY VERY IMPORTANT "
   ]
  },
  {
   "cell_type": "code",
   "execution_count": 58,
   "id": "2ea0495c-9ebe-496b-ad3c-8141660a2363",
   "metadata": {},
   "outputs": [
    {
     "name": "stdout",
     "output_type": "stream",
     "text": [
      "0\n",
      "1\n",
      "1\n",
      "2\n",
      "3\n",
      "5\n",
      "8\n",
      "13\n",
      "21\n",
      "34\n"
     ]
    }
   ],
   "source": [
    "def infinite_fibonacci():\n",
    "    a, b = 0, 1\n",
    "    while True:\n",
    "        yield a\n",
    "        a, b = b, a + b\n",
    "fib_generator = infinite_fibonacci()\n",
    "for _ in range(10):\n",
    "    print(next(fib_generator))"
   ]
  },
  {
   "cell_type": "code",
   "execution_count": null,
   "id": "6fa26bec-b8e5-444f-aebe-7c71d93eed7d",
   "metadata": {},
   "outputs": [],
   "source": []
  }
 ],
 "metadata": {
  "kernelspec": {
   "display_name": "Python 3 (ipykernel)",
   "language": "python",
   "name": "python3"
  },
  "language_info": {
   "codemirror_mode": {
    "name": "ipython",
    "version": 3
   },
   "file_extension": ".py",
   "mimetype": "text/x-python",
   "name": "python",
   "nbconvert_exporter": "python",
   "pygments_lexer": "ipython3",
   "version": "3.12.4"
  }
 },
 "nbformat": 4,
 "nbformat_minor": 5
}
